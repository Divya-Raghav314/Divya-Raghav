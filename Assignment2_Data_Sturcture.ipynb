{
  "nbformat": 4,
  "nbformat_minor": 0,
  "metadata": {
    "colab": {
      "provenance": []
    },
    "kernelspec": {
      "name": "python3",
      "display_name": "Python 3"
    },
    "language_info": {
      "name": "python"
    }
  },
  "cells": [
    {
      "cell_type": "markdown",
      "source": [
        "#1 What are data structures, and why are they important?\n",
        "Data structure is a way of organising and storing of data so that it can be accessed and manipulated efficiently.\n",
        "\n",
        "\n",
        "*  Importance of Data Structure:-\n",
        "1. It provides efficient way to store data\n",
        "2. It makes data more efficient for computers to process information.\n",
        "3. It gives an organised and efficient way to manipulate and analyise of data\n",
        "\n",
        "#2.  Explain the difference between mutable and immutable data types with examples?\n",
        "\n",
        "\n",
        "*   Mutable types- It means that database structure which can be changed. For eg - List, sets, Dicitonary.\n",
        "*   Immutable data types - It means that database structure which can't be changed.\n",
        "eg- Tuples.\n",
        "\n",
        "#3. What are the main differences between lists and tuples in Python?\n",
        "1. List have square brackets[] while tuples have parenthesis bracket().\n",
        "2. Lists are mutable data structure while tuples are immutable data structure.\n",
        "3. Lists are slower because they need more time to handle changes in lists while tuples are more faster.\n",
        "4. lists are used when collection data may change after some time while tuples are used to store data which shouldn't be changed over the period of time.\n",
        "\n",
        "#4.  Describe how dictionaries store data?\n",
        "Dictionary stores data as key value pair.\n",
        "For example - {\"name\":\"Divya\", \"age\":\"24\"}\n",
        "\n",
        "#5. Why might you use a set instead of a list in Python?\n",
        "1. Sets are the data structure that stores data in an unordered and unique elements while stores ordered set of data\n",
        "2. Sets doesn't allow duplicate elements while list allows duplicates .\n",
        "3. Set has mathematical set operations like union, intersection, difference and symmetric while lists don't have any built-in operations.\n",
        "\n",
        "#6. What is a string in Python, and how is it different from a list?\n",
        "String is a data structure in python which stores the sequence of characters enclosed in double quotes.\n",
        "For example - \"DIVYA\"\n",
        " #Difference\n",
        "1. String is different from lists as lists stores ordered collection of hetergeneous data types in square brackets.\n",
        "2. String is Immutable while lists are mutable.\n",
        "\n",
        "#7. How do tuples ensure data integrity in Python?\n",
        "As tuples are immutable data structure which means items stored in tuples can't be changed or altered(add or modified) this ensures the integrity.\n",
        "\n",
        "#8. What is a hash table, and how does it relate to dictionaries in Python?\n",
        "Hash table is a data structure that stores key-value pairs.\n",
        "When you create a dictionary, python usesa hash function to generate a unique hash value for each key and then used to determine the index whether the corrosponding value is stored.\n",
        "\n",
        "#9. Can lists contain different data types in Python?\n",
        "Yes, lists can store different data types as it stores heterogenous data.\n",
        "\n",
        "#10.  Explain why strings are immutable in Python?\n",
        "Strings are immutable in python because of the following reasons:-\n",
        "1. Memory efficiency - String in python utilizes the memory more efficiently\n",
        "2. When you modify(concatenation or slicing) a string python creates a new string while original string remains unchanged\n",
        "3. Immutability ensures the integrity and safety of the data.\n",
        "4. Immutable string can be used as keys in dictionary because of its stable hash value.\n",
        "\n",
        "#11. What advantages do dictionaries offer over lists for certain tasks?\n",
        "1. A lists store any type of data while keys in dictionaries can be of any immutable data type and value can be of any data type.\n",
        "2. Data can be easily and faster accessable using key in dictionary instead of indexing in lists.\n",
        "3. Dictionary helps in mapping the complex data more efficiently.\n",
        "\n",
        "#12.  Describe a scenario where using a tuple would be preferable over a list?\n",
        "Tuples are great to use when you don't want to change your data that is you want to keep your data in read only format.\n",
        "\n",
        "#13.  How do sets handle duplicate values in Python?\n",
        "Sets stores the data in an unique and unordered way it means it removes the duplicate values from the data.\n",
        "\n",
        "#14. How does the “in” keyword work differently for lists and dictionaries?\n",
        "When used with lists, \"in\" checks whether a value existes in lists or not while on the other hand When used with dictionaries, \"in\"  checks whether a key exists or not.\n",
        "\n",
        "#15. Can you modify the elements of a tuple? Explain why or why not?\n",
        "No, elements of tuple cannot be changed because tuples are immutable.\n",
        "Immutable means data cannot changed or altered once it is created.\n",
        "\n",
        "#16. What is a nested dictionary, and give an example of its use case?\n",
        "Nested dictionary means a dictionary inside a dictionary. Its a collection of multiple dictionary into one single dictionary.\n",
        "For example-\n",
        " Employe = {\n",
        "  \"E001\":{\"name\":\"Ram\",\"department\":\"engineering\",\"salary\":7500}\n",
        "  \"E002\":{\"name\":\"Shyam\", \"department\":\"marketing\", \"salary\": 70000}\n",
        " }\n",
        "\n",
        "#17.  Describe the time complexity of accessing elements in a dictionary?\n",
        "Accessing an elements using key has an constant time operations i.e. O(1), however in worst case scenarios  it degrades to O(n).\n",
        "Dictionaries uses hash table to store data which makes element accessable more efficiently.\n",
        "\n",
        "#18.  In what situations are lists preferred over dictionaries?\n",
        "Lists are prefered over dictionaries for quick data lookups and for ordered collection and sequence of data.\n",
        "\n",
        "#19. Why are dictionaries considered unordered, and how does that affect data retrieval?\n",
        "Dictionaries considered unordered this is because the internal hash table intends to store data in fast accesible not in order.\n",
        "Data retrieval remains still faster accessible and promotes independent of order.\n",
        "\n",
        "#20. Explain the difference between a list and a dictionary in terms of data retrieval.\n",
        "In lists data are retrieved using their index value while in dictionary data is retrieved through their unique keys.\n",
        "In list you can't access data by label while in dicitonary you can't access data by suing index value.\n",
        "\n",
        "\n",
        "\n",
        "\n",
        "\n",
        "\n",
        "\n",
        "\n",
        "\n",
        "\n",
        "\n",
        "\n",
        "\n"
      ],
      "metadata": {
        "id": "3xH2KMlMg-YS"
      }
    },
    {
      "cell_type": "code",
      "source": [
        "#1 Write a code to create a string with your name and print it.\n",
        "string = \"DIVYA RAGHAV\"\n",
        "print(string)"
      ],
      "metadata": {
        "colab": {
          "base_uri": "https://localhost:8080/"
        },
        "id": "uTah-jKD1PQ5",
        "outputId": "e20b50e7-1793-4a60-c9f1-41bedd3e712e"
      },
      "execution_count": null,
      "outputs": [
        {
          "output_type": "stream",
          "name": "stdout",
          "text": [
            "DIVYA RAGHAV\n"
          ]
        }
      ]
    },
    {
      "cell_type": "code",
      "source": [
        "#2 Write a code to find the length of the string \"Hello World\".\n",
        "string = \"Hello World\"\n",
        "len(string)"
      ],
      "metadata": {
        "colab": {
          "base_uri": "https://localhost:8080/"
        },
        "id": "4AS5Ux3z1ctA",
        "outputId": "af6ea09b-1d46-498c-b3ab-e7b73df7fdb3"
      },
      "execution_count": null,
      "outputs": [
        {
          "output_type": "execute_result",
          "data": {
            "text/plain": [
              "11"
            ]
          },
          "metadata": {},
          "execution_count": 5
        }
      ]
    },
    {
      "cell_type": "code",
      "source": [
        "#3 Write a code to slice the first 3 characters from the string \"Python Programming\".\n",
        "string = \"Python Programming\"\n",
        "string[0:3]"
      ],
      "metadata": {
        "colab": {
          "base_uri": "https://localhost:8080/",
          "height": 36
        },
        "id": "CN7QJTil1rUR",
        "outputId": "c56b5a44-95d3-4e66-ba8c-79a43587033a"
      },
      "execution_count": null,
      "outputs": [
        {
          "output_type": "execute_result",
          "data": {
            "text/plain": [
              "'Pyt'"
            ],
            "application/vnd.google.colaboratory.intrinsic+json": {
              "type": "string"
            }
          },
          "metadata": {},
          "execution_count": 9
        }
      ]
    },
    {
      "cell_type": "code",
      "source": [
        "#4 Write a code to convert the string \"hello\" to uppercase.\n",
        "string = \"hello\"\n",
        "uppercase_string = string.upper()\n",
        "print(uppercase_string)"
      ],
      "metadata": {
        "colab": {
          "base_uri": "https://localhost:8080/"
        },
        "id": "949gTZ8X2TIo",
        "outputId": "2dc8f572-bcdf-4888-989f-893dfa5f4b90"
      },
      "execution_count": null,
      "outputs": [
        {
          "output_type": "stream",
          "name": "stdout",
          "text": [
            "HELLO\n"
          ]
        }
      ]
    },
    {
      "cell_type": "code",
      "source": [
        "#5 Write a code to replace the word \"apple\" with \"orange\" in the string \"I like apple\n",
        "Fruit = \"I like apple\"\n",
        "Fruit.replace(\"apple\",\"orange\")"
      ],
      "metadata": {
        "colab": {
          "base_uri": "https://localhost:8080/",
          "height": 36
        },
        "id": "c4U0W-GV2h-I",
        "outputId": "6928eb78-c144-4478-ab78-6aa5ed60709e"
      },
      "execution_count": null,
      "outputs": [
        {
          "output_type": "execute_result",
          "data": {
            "text/plain": [
              "'I like orange'"
            ],
            "application/vnd.google.colaboratory.intrinsic+json": {
              "type": "string"
            }
          },
          "metadata": {},
          "execution_count": 15
        }
      ]
    },
    {
      "cell_type": "code",
      "source": [
        "#6 Write a code to create a list with numbers 1 to 5 and print it.\n",
        "list = [1, 2, 3, 4, 5]\n",
        "print(list)"
      ],
      "metadata": {
        "colab": {
          "base_uri": "https://localhost:8080/"
        },
        "id": "IB-DeiLQ3bDX",
        "outputId": "24c3996d-99b3-4103-ef49-ab61c5214c2a"
      },
      "execution_count": null,
      "outputs": [
        {
          "output_type": "stream",
          "name": "stdout",
          "text": [
            "[1, 2, 3, 4, 5]\n"
          ]
        }
      ]
    },
    {
      "cell_type": "code",
      "source": [
        "#7 Write a code to append the number 10 to the list [1, 2, 3, 4]\n",
        "list = [1, 2, 3, 4]\n",
        "list.append(10)\n",
        "list"
      ],
      "metadata": {
        "colab": {
          "base_uri": "https://localhost:8080/"
        },
        "id": "Ze1uVWIJ3rPP",
        "outputId": "fcaa5a89-9e95-46ff-d8ea-b3da7632b9e2"
      },
      "execution_count": null,
      "outputs": [
        {
          "output_type": "execute_result",
          "data": {
            "text/plain": [
              "[1, 2, 3, 4, 10]"
            ]
          },
          "metadata": {},
          "execution_count": 17
        }
      ]
    },
    {
      "cell_type": "code",
      "source": [
        "#8 Write a code to remove the number 3 from the list [1, 2, 3, 4, 5].\n",
        "list = [1, 2, 3, 4, 5]\n",
        "list.remove(3)\n",
        "list"
      ],
      "metadata": {
        "colab": {
          "base_uri": "https://localhost:8080/"
        },
        "id": "od6w5_8N34FQ",
        "outputId": "a76f4b3b-a83e-46e4-f77c-fef6b4560557"
      },
      "execution_count": null,
      "outputs": [
        {
          "output_type": "execute_result",
          "data": {
            "text/plain": [
              "[1, 2, 4, 5]"
            ]
          },
          "metadata": {},
          "execution_count": 18
        }
      ]
    },
    {
      "cell_type": "code",
      "source": [
        "#9 Write a code to access the second element in the list ['a', 'b', 'c', 'd']\n",
        "list = [\"a\", \"b\", \"c\", \"d\"]\n",
        "list[1]"
      ],
      "metadata": {
        "colab": {
          "base_uri": "https://localhost:8080/",
          "height": 36
        },
        "id": "WNuh_AYH4Dh4",
        "outputId": "4e638e7e-fa9b-4cd0-d318-fcd36e739695"
      },
      "execution_count": null,
      "outputs": [
        {
          "output_type": "execute_result",
          "data": {
            "text/plain": [
              "'b'"
            ],
            "application/vnd.google.colaboratory.intrinsic+json": {
              "type": "string"
            }
          },
          "metadata": {},
          "execution_count": 19
        }
      ]
    },
    {
      "cell_type": "code",
      "source": [
        "#10 Write a code to reverse the list [10, 20, 30, 40, 50]\n",
        "list = [10, 20, 30, 40, 50]\n",
        "list[::-1]"
      ],
      "metadata": {
        "colab": {
          "base_uri": "https://localhost:8080/"
        },
        "id": "2D_48vqB4aUo",
        "outputId": "636a31cb-2fc1-4449-e59e-19e53d5fa46d"
      },
      "execution_count": null,
      "outputs": [
        {
          "output_type": "execute_result",
          "data": {
            "text/plain": [
              "[50, 40, 30, 20, 10]"
            ]
          },
          "metadata": {},
          "execution_count": 20
        }
      ]
    },
    {
      "cell_type": "code",
      "source": [
        "#11 Write a code to create a tuple with the elements 100, 200, 300 and print it\n",
        "tuple = (100, 200, 300)\n",
        "print(tuple)"
      ],
      "metadata": {
        "colab": {
          "base_uri": "https://localhost:8080/"
        },
        "id": "JeVf4_8G4pOI",
        "outputId": "a129cd2c-917d-4547-e9f4-1d9f2d1ae4a1"
      },
      "execution_count": null,
      "outputs": [
        {
          "output_type": "stream",
          "name": "stdout",
          "text": [
            "(100, 200, 300)\n"
          ]
        }
      ]
    },
    {
      "cell_type": "code",
      "source": [
        "#12 Write a code to access the second-to-last element of the tuple ('red', 'green', 'blue', 'yellow')\n",
        "tuple = (\"red\",\"green\",\"blue\", \"yellow\")\n",
        "tuple[-2]"
      ],
      "metadata": {
        "colab": {
          "base_uri": "https://localhost:8080/",
          "height": 36
        },
        "id": "JeJOMSRr46Og",
        "outputId": "36e9cd47-82da-4536-9b5b-059bc8cf9759"
      },
      "execution_count": null,
      "outputs": [
        {
          "output_type": "execute_result",
          "data": {
            "text/plain": [
              "'blue'"
            ],
            "application/vnd.google.colaboratory.intrinsic+json": {
              "type": "string"
            }
          },
          "metadata": {},
          "execution_count": 23
        }
      ]
    },
    {
      "cell_type": "code",
      "source": [
        "#13 Write a code to find the minimum number in the tuple (10, 20, 5, 15)\n",
        "tuple = (10, 20, 5, 15)\n",
        "min(tuple)"
      ],
      "metadata": {
        "colab": {
          "base_uri": "https://localhost:8080/"
        },
        "id": "1c_mXcA15SqQ",
        "outputId": "c0dc738f-d78a-4f70-abd7-8976f640212f"
      },
      "execution_count": null,
      "outputs": [
        {
          "output_type": "execute_result",
          "data": {
            "text/plain": [
              "5"
            ]
          },
          "metadata": {},
          "execution_count": 24
        }
      ]
    },
    {
      "cell_type": "code",
      "source": [
        "#14 Write a code to find the index of the element \"cat\" in the tuple ('dog', 'cat', 'rabbit')\n",
        "b = (\"dog\",\"cat\", \"rabbit\")\n",
        "b.index(\"cat\")"
      ],
      "metadata": {
        "colab": {
          "base_uri": "https://localhost:8080/"
        },
        "id": "_KK7mqRRA0kl",
        "outputId": "d4888b14-5c1d-4149-dfc0-55b91b3a010d"
      },
      "execution_count": null,
      "outputs": [
        {
          "output_type": "execute_result",
          "data": {
            "text/plain": [
              "1"
            ]
          },
          "metadata": {},
          "execution_count": 25
        }
      ]
    },
    {
      "cell_type": "code",
      "source": [
        "#15 Write a code to create a tuple containing three different fruits and check if \"kiwi\" is in it\n",
        "fruit = (\"apple\", \"banana\",\"kiwi\")\n",
        "\"kiwi\" in fruit"
      ],
      "metadata": {
        "colab": {
          "base_uri": "https://localhost:8080/"
        },
        "id": "AVj-QmTMBUM-",
        "outputId": "b2e4a64c-ec09-48a9-cab5-78c69d14c3c8"
      },
      "execution_count": null,
      "outputs": [
        {
          "output_type": "execute_result",
          "data": {
            "text/plain": [
              "True"
            ]
          },
          "metadata": {},
          "execution_count": 26
        }
      ]
    },
    {
      "cell_type": "code",
      "source": [
        "#16 Write a code to create a set with the elements 'a', 'b', 'c' and print it.\n",
        "set = {\"a\", \"b\",\"c\"}\n",
        "print(set)"
      ],
      "metadata": {
        "colab": {
          "base_uri": "https://localhost:8080/"
        },
        "id": "eESblxmOCLsi",
        "outputId": "dd325f80-bce5-40a7-f7a9-203b4f0be134"
      },
      "execution_count": null,
      "outputs": [
        {
          "output_type": "stream",
          "name": "stdout",
          "text": [
            "{'c', 'a', 'b'}\n"
          ]
        }
      ]
    },
    {
      "cell_type": "code",
      "source": [
        "#17  Write a code to clear all elements from the set {1, 2, 3, 4, 5}\n",
        "set = {1, 2, 3, 4, 5}\n",
        "set.clear()\n",
        "set"
      ],
      "metadata": {
        "colab": {
          "base_uri": "https://localhost:8080/"
        },
        "id": "Gqh9eUJICrL-",
        "outputId": "54ab3491-5f13-45cf-bbb0-fa98855d06e7"
      },
      "execution_count": null,
      "outputs": [
        {
          "output_type": "execute_result",
          "data": {
            "text/plain": [
              "set()"
            ]
          },
          "metadata": {},
          "execution_count": 29
        }
      ]
    },
    {
      "cell_type": "code",
      "source": [
        "#18 Write a code to remove the element 4 from the set {1, 2, 3, 4}\n",
        "set1 = {1, 2, 3, 4}\n",
        "set1.remove(4)\n",
        "set1"
      ],
      "metadata": {
        "colab": {
          "base_uri": "https://localhost:8080/"
        },
        "id": "m3OgajxGDFl8",
        "outputId": "50cfb752-005a-4be1-84ff-e6a791223b2e"
      },
      "execution_count": null,
      "outputs": [
        {
          "output_type": "execute_result",
          "data": {
            "text/plain": [
              "{1, 2, 3}"
            ]
          },
          "metadata": {},
          "execution_count": 34
        }
      ]
    },
    {
      "cell_type": "code",
      "source": [
        "#19 Write a code to find the union of two sets {1, 2, 3} and {3, 4, 5}\n",
        "set1 = {1, 2, 3}\n",
        "set2 = {3, 4, 5}\n",
        "set1.union(set2)"
      ],
      "metadata": {
        "colab": {
          "base_uri": "https://localhost:8080/"
        },
        "id": "bgruC6-2DgId",
        "outputId": "f51c08b8-59cf-496e-a020-2f34822d85ab"
      },
      "execution_count": null,
      "outputs": [
        {
          "output_type": "execute_result",
          "data": {
            "text/plain": [
              "{1, 2, 3, 4, 5}"
            ]
          },
          "metadata": {},
          "execution_count": 36
        }
      ]
    },
    {
      "cell_type": "code",
      "source": [
        "#20 Write a code to find the intersection of two sets {1, 2, 3} and {2, 3, 4}\n",
        "set1 = {1, 2, 3}\n",
        "set2 = {2, 3, 4}\n",
        "set1.intersection(set2)"
      ],
      "metadata": {
        "colab": {
          "base_uri": "https://localhost:8080/"
        },
        "id": "dkVCARa4EDB-",
        "outputId": "17b584ea-d334-46d8-f3d7-733c96ef71e9"
      },
      "execution_count": null,
      "outputs": [
        {
          "output_type": "execute_result",
          "data": {
            "text/plain": [
              "{2, 3}"
            ]
          },
          "metadata": {},
          "execution_count": 37
        }
      ]
    },
    {
      "cell_type": "code",
      "source": [
        "#21 Write a code to create a dictionary with the keys \"name\", \"age\", and \"city\", and print it\n",
        "my_dict = {\"name\":\"Divya\", \"age\":24, \"city\":\"Gurgaon\"}\n",
        "print(my_dict)"
      ],
      "metadata": {
        "colab": {
          "base_uri": "https://localhost:8080/"
        },
        "id": "0ckhMOfhEUSk",
        "outputId": "8ed003cd-97f5-48db-fa09-10c5e20ddb1d"
      },
      "execution_count": null,
      "outputs": [
        {
          "output_type": "stream",
          "name": "stdout",
          "text": [
            "{'name': 'Divya', 'age': 24, 'city': 'Gurgaon'}\n"
          ]
        }
      ]
    },
    {
      "cell_type": "code",
      "source": [
        "#22 Write a code to add a new key-value pair \"country\": \"USA\" to the dictionary {'name': 'John', 'age': 25}\n",
        "my_dict1 = {\"name\":\"john\", \"age\":25}\n",
        "my_dict1[\"country\"] = \"USA\"\n",
        "my_dict1"
      ],
      "metadata": {
        "colab": {
          "base_uri": "https://localhost:8080/"
        },
        "id": "i_PxwOw8EqK0",
        "outputId": "7bff6cd0-6b4e-42a9-e26a-f124484fcb97"
      },
      "execution_count": null,
      "outputs": [
        {
          "output_type": "execute_result",
          "data": {
            "text/plain": [
              "{'name': 'john', 'age': 25, 'country': 'USA'}"
            ]
          },
          "metadata": {},
          "execution_count": 39
        }
      ]
    },
    {
      "cell_type": "code",
      "source": [
        "#23  Write a code to access the value associated with the key \"name\" in the dictionary {'name': 'Alice', 'age': 30}\n",
        "dict3 = {\"name\":\"Alice\", \"age\":30}\n",
        "dict3[\"name\"]"
      ],
      "metadata": {
        "colab": {
          "base_uri": "https://localhost:8080/",
          "height": 36
        },
        "id": "Bguj1w4kFQMV",
        "outputId": "67552ff4-ce06-4cbb-b89a-da25ebe38af8"
      },
      "execution_count": null,
      "outputs": [
        {
          "output_type": "execute_result",
          "data": {
            "text/plain": [
              "'Alice'"
            ],
            "application/vnd.google.colaboratory.intrinsic+json": {
              "type": "string"
            }
          },
          "metadata": {},
          "execution_count": 45
        }
      ]
    },
    {
      "cell_type": "code",
      "source": [
        "#24 Write a code to remove the key \"age\" from the dictionary {'name': 'Bob', 'age': 22, 'city': 'New York'}\n",
        "dict4 = {\"name\":\"Bob\",\"age\":22, \"city\":\"New York\"}\n",
        "dict4.pop(\"age\")\n",
        "dict4"
      ],
      "metadata": {
        "colab": {
          "base_uri": "https://localhost:8080/"
        },
        "id": "lXM12G0YFy6N",
        "outputId": "baac30e5-bc22-4407-9a1a-8b5ed5b68629"
      },
      "execution_count": null,
      "outputs": [
        {
          "output_type": "execute_result",
          "data": {
            "text/plain": [
              "{'name': 'Bob', 'city': 'New York'}"
            ]
          },
          "metadata": {},
          "execution_count": 47
        }
      ]
    },
    {
      "cell_type": "code",
      "source": [
        "#25 Write a code to check if the key \"city\" exists in the dictionary {'name': 'Alice', 'city': 'Paris'}\n",
        "dict5 = {\"name\":\"Alice\", \"city\":\"paris\"}\n",
        "\"city\" in dict5"
      ],
      "metadata": {
        "colab": {
          "base_uri": "https://localhost:8080/"
        },
        "id": "8gC3JyP5GXpF",
        "outputId": "07645008-5a68-4d0d-d536-be91c0a13773"
      },
      "execution_count": null,
      "outputs": [
        {
          "output_type": "execute_result",
          "data": {
            "text/plain": [
              "True"
            ]
          },
          "metadata": {},
          "execution_count": 48
        }
      ]
    },
    {
      "cell_type": "code",
      "source": [
        "#26 Write a code to create a list, a tuple, and a dictionary, and print them all\n",
        "list5 = [1, 2, 3, 4.5, True, \"Ajay\"]\n",
        "tuple5 = (1, 4.6, \"Raghav\", False)\n",
        "my_dict6 = {\"name\":\"Raja\", \"age\":34, \"city\":\"Gurgaon\"}\n",
        "print(list5)\n",
        "print(tuple5)\n",
        "print(my_dict6)"
      ],
      "metadata": {
        "colab": {
          "base_uri": "https://localhost:8080/"
        },
        "id": "l_F4OUnWHA11",
        "outputId": "6f43c891-0a43-4c8a-dd0b-59378b35af90"
      },
      "execution_count": null,
      "outputs": [
        {
          "output_type": "stream",
          "name": "stdout",
          "text": [
            "[1, 2, 3, 4.5, True, 'Ajay']\n",
            "(1, 4.6, 'Raghav', False)\n",
            "{'name': 'Raja', 'age': 34, 'city': 'Gurgaon'}\n"
          ]
        }
      ]
    },
    {
      "cell_type": "code",
      "source": [
        "#27 Write a code to create a list of 5 random numbers between 1 and 100, sort it in ascending order, and print the result.(replaced)\n",
        "number = [98, 54, 45, 36, 63]\n",
        "number.sort()\n",
        "print(\"result.replaced is\",number)"
      ],
      "metadata": {
        "colab": {
          "base_uri": "https://localhost:8080/"
        },
        "id": "OIuitA4JIYb4",
        "outputId": "eefdf1c1-46b6-4657-b051-f9f33cc953db"
      },
      "execution_count": null,
      "outputs": [
        {
          "output_type": "stream",
          "name": "stdout",
          "text": [
            "result.replaced is [36, 45, 54, 63, 98]\n"
          ]
        }
      ]
    },
    {
      "cell_type": "code",
      "source": [
        "#28 Write a code to create a list with strings and print the element at the third index\n",
        "list8 = [\"potato\", \"tomato\", \"brinjal\", \"cabbage\"]\n",
        "print(\"The element at the third index:\", list8[3])"
      ],
      "metadata": {
        "colab": {
          "base_uri": "https://localhost:8080/"
        },
        "id": "sKyyI5orKKw0",
        "outputId": "34aeaca9-c205-437f-c56d-ffd43cba0f1a"
      },
      "execution_count": null,
      "outputs": [
        {
          "output_type": "stream",
          "name": "stdout",
          "text": [
            "The element at the third index: cabbage\n"
          ]
        }
      ]
    },
    {
      "cell_type": "code",
      "source": [
        "#29 Write a code to combine two dictionaries into one and print the result\n",
        "my_dict4 = {\"name\":\"John\" , \"age\": 35, \"city\":\"New York\"}\n",
        "my_dict5 = {\"Job profile\": \"Engineer\", \"Salary\": 80000}\n",
        "my_dict4.update(my_dict5)\n",
        "my_dict4"
      ],
      "metadata": {
        "colab": {
          "base_uri": "https://localhost:8080/"
        },
        "id": "QyMqozWAL0tu",
        "outputId": "7e09b12e-b99c-4ee5-d7c2-e71be5515ff3"
      },
      "execution_count": null,
      "outputs": [
        {
          "output_type": "execute_result",
          "data": {
            "text/plain": [
              "{'name': 'John',\n",
              " 'age': 35,\n",
              " 'city': 'New York',\n",
              " 'Job profile': 'Engineer',\n",
              " 'Salary': 80000}"
            ]
          },
          "metadata": {},
          "execution_count": 64
        }
      ]
    },
    {
      "cell_type": "code",
      "source": [
        "#30 Write a code to convert a list of strings into a set.\n",
        "number_list = [\"1\", \"2\", \"3\", \"4\", \"5\"]\n",
        "number_update = set(number_list)\n",
        "print(number_update)"
      ],
      "metadata": {
        "colab": {
          "base_uri": "https://localhost:8080/"
        },
        "id": "9t8MRJ5MUrH7",
        "outputId": "d069e6db-9cce-409a-a395-bb3489a8b041"
      },
      "execution_count": 1,
      "outputs": [
        {
          "output_type": "stream",
          "name": "stdout",
          "text": [
            "{'3', '4', '2', '5', '1'}\n"
          ]
        }
      ]
    }
  ]
}